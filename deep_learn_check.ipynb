{
 "cells": [
  {
   "cell_type": "markdown",
   "id": "c93cf47f",
   "metadata": {},
   "source": [
    "##  using  DEEP learning To check MODEL is good or NOT"
   ]
  },
  {
   "cell_type": "code",
   "execution_count": null,
   "id": "0e920d8f",
   "metadata": {
    "vscode": {
     "languageId": "plaintext"
    }
   },
   "outputs": [],
   "source": [
    "import tensorflow as tf \n",
    "from keras.models import Sequential\n",
    "from keras.layers import Dense\n",
    "\n",
    "model = Sequential()\n",
    "model.add(Dense(units = 100,activation = 'relu', input_dim = X_train.shape[1]))\n",
    "model.add(Dense(units = 50,activation = 'relu')) #Dense is used to ANN\n",
    "model.add(Dense(units = 25,activation = 'relu')) # for image is 2D convo2D replace\n",
    "model.add(Dense(units = 12,activation = 'relu'))\n",
    "model.add(Dense(units = 6,activation = 'relu'))\n",
    "model.add(Dense(units = 3,activation = 'relu'))\n",
    "model.add(Dense(units = 1,activation = 'sigmoid')) # only last column is output\n",
    "\n",
    "model.compile(optimizer='adam', loss='binary_crossentropy',metrics = ['accuracy'])\n",
    "\n",
    "history = model.fit(X_train , y_train,epochs = 100,batch_size = 32,\n",
    "validation_data =(X_test,y_test))\n"
   ]
  }
 ],
 "metadata": {
  "language_info": {
   "name": "python"
  }
 },
 "nbformat": 4,
 "nbformat_minor": 5
}
